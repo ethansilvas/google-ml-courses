{
  "cells": [
    {
      "cell_type": "code",
      "execution_count": 1,
      "metadata": {
        "cellView": "form",
        "id": "wDlWLbfkJtvu"
      },
      "outputs": [],
      "source": [
        "#@title Copyright 2020 Google LLC. Double-click here for license information.\n",
        "# Licensed under the Apache License, Version 2.0 (the \"License\");\n",
        "# you may not use this file except in compliance with the License.\n",
        "# You may obtain a copy of the License at\n",
        "#\n",
        "# https://www.apache.org/licenses/LICENSE-2.0\n",
        "#\n",
        "# Unless required by applicable law or agreed to in writing, software\n",
        "# distributed under the License is distributed on an \"AS IS\" BASIS,\n",
        "# WITHOUT WARRANTIES OR CONDITIONS OF ANY KIND, either express or implied.\n",
        "# See the License for the specific language governing permissions and\n",
        "# limitations under the License."
      ]
    },
    {
      "cell_type": "markdown",
      "metadata": {
        "id": "T4r2z30vJSbA"
      },
      "source": [
        "# Colabs\n",
        "\n",
        "Machine Learning Crash Course uses Colaboratories (Colabs) for all programming exercises. Colab is Google's implementation of [Jupyter Notebook](https://jupyter.org/). For more information about Colabs and how to use them, go to [Welcome to Colaboratory](https://research.google.com/colaboratory)."
      ]
    },
    {
      "cell_type": "markdown",
      "metadata": {
        "id": "TL5y5fY9Jy_x"
      },
      "source": [
        "# Introduction to Neural Nets\n",
        "\n",
        "This Colab builds a deep neural network to perform more sophisticated linear regression than the earlier Colabs."
      ]
    },
    {
      "cell_type": "markdown",
      "metadata": {
        "id": "7RDY3EeAluPd"
      },
      "source": [
        "## Learning Objectives:\n",
        "\n",
        "After doing this Colab, you'll know how to do the following:\n",
        "\n",
        "  * Create a simple deep neural network.\n",
        "  * Tune the hyperparameters for a simple deep neural network."
      ]
    },
    {
      "cell_type": "markdown",
      "metadata": {
        "id": "XGj0PNaJlubZ"
      },
      "source": [
        "## The Dataset\n",
        "  \n",
        "Like several of the previous Colabs, this Colab uses the [California Housing Dataset](https://developers.google.com/machine-learning/crash-course/california-housing-data-description)."
      ]
    },
    {
      "cell_type": "markdown",
      "metadata": {
        "id": "xchnxAsaKKqO"
      },
      "source": [
        "## Import relevant modules\n",
        "\n",
        "The following hidden code cell imports the necessary code to run the code in the rest of this Colaboratory."
      ]
    },
    {
      "cell_type": "code",
      "execution_count": 2,
      "metadata": {
        "id": "9n9_cTveKmse",
        "colab": {
          "base_uri": "https://localhost:8080/"
        },
        "outputId": "858f3102-498b-487b-9f84-8065af041170"
      },
      "outputs": [
        {
          "output_type": "stream",
          "name": "stdout",
          "text": [
            "Imported modules.\n"
          ]
        }
      ],
      "source": [
        "#@title Import relevant modules\n",
        "import numpy as np\n",
        "import pandas as pd\n",
        "import tensorflow as tf\n",
        "from tensorflow.keras import layers\n",
        "from matplotlib import pyplot as plt\n",
        "import seaborn as sns\n",
        "\n",
        "# The following lines adjust the granularity of reporting. \n",
        "pd.options.display.max_rows = 10\n",
        "pd.options.display.float_format = \"{:.1f}\".format\n",
        "\n",
        "print(\"Imported modules.\")"
      ]
    },
    {
      "cell_type": "markdown",
      "metadata": {
        "id": "X_TaJhU4KcuY"
      },
      "source": [
        "## Load the dataset\n",
        "\n",
        "Like most of the previous Colab exercises, this exercise uses the California Housing Dataset.  The following code cell loads the separate .csv files and creates the following two pandas DataFrames:\n",
        "\n",
        "* `train_df`, which contains the training set\n",
        "* `test_df`, which contains the test set\n",
        "   "
      ]
    },
    {
      "cell_type": "code",
      "execution_count": 3,
      "metadata": {
        "id": "JZlvdpyYKx7V"
      },
      "outputs": [],
      "source": [
        "train_df = pd.read_csv(\"https://download.mlcc.google.com/mledu-datasets/california_housing_train.csv\")\n",
        "train_df = train_df.reindex(np.random.permutation(train_df.index)) # shuffle the examples\n",
        "test_df = pd.read_csv(\"https://download.mlcc.google.com/mledu-datasets/california_housing_test.csv\")"
      ]
    },
    {
      "cell_type": "markdown",
      "metadata": {
        "id": "8ldP-5z1B2vL"
      },
      "source": [
        "## Normalize values\n",
        "\n",
        "When building a model with multiple features, the values of each feature should cover roughly the same range.  The following code cell normalizes datasets by converting each raw value to its Z-score. (For more information about Z-scores, see the Classification exercise.)"
      ]
    },
    {
      "cell_type": "code",
      "execution_count": 4,
      "metadata": {
        "id": "g8HC-TDgB1D1",
        "colab": {
          "base_uri": "https://localhost:8080/"
        },
        "outputId": "a509ffee-277d-43a0-bfe7-ff4316f17f96"
      },
      "outputs": [
        {
          "output_type": "stream",
          "name": "stdout",
          "text": [
            "Normalized the values.\n"
          ]
        }
      ],
      "source": [
        "#@title Convert raw values to their Z-scores \n",
        "\n",
        "# Calculate the Z-scores of each column in the training set:\n",
        "train_df_mean = train_df.mean()\n",
        "train_df_std = train_df.std()\n",
        "train_df_norm = (train_df - train_df_mean)/train_df_std\n",
        "\n",
        "# Calculate the Z-scores of each column in the test set.\n",
        "test_df_mean = test_df.mean()\n",
        "test_df_std = test_df.std()\n",
        "test_df_norm = (test_df - test_df_mean)/test_df_std\n",
        "\n",
        "print(\"Normalized the values.\")"
      ]
    },
    {
      "cell_type": "markdown",
      "metadata": {
        "id": "b9ehCgIRjTxy"
      },
      "source": [
        "## Represent data\n",
        "\n",
        "The following code cell creates a feature layer containing three features:\n",
        "\n",
        "* `latitude` X `longitude` (a feature cross)\n",
        "* `median_income`\n",
        "* `population`\n",
        "\n",
        "This code cell specifies the features that you'll ultimately train the model on and how each of those features will be represented. The transformations (collected in `my_feature_layer`) don't actually get applied until you pass a DataFrame to it, which will happen when we train the model. "
      ]
    },
    {
      "cell_type": "code",
      "execution_count": 5,
      "metadata": {
        "id": "8EkNAQhnjSu-"
      },
      "outputs": [],
      "source": [
        "# Create an empty list that will eventually hold all created feature columns.\n",
        "feature_columns = []\n",
        "\n",
        "# We scaled all the columns, including latitude and longitude, into their\n",
        "# Z scores. So, instead of picking a resolution in degrees, we're going\n",
        "# to use resolution_in_Zs.  A resolution_in_Zs of 1 corresponds to \n",
        "# a full standard deviation. \n",
        "resolution_in_Zs = 0.3  # 3/10 of a standard deviation.\n",
        "\n",
        "# Create a bucket feature column for latitude.\n",
        "latitude_as_a_numeric_column = tf.feature_column.numeric_column(\"latitude\")\n",
        "latitude_boundaries = list(np.arange(int(min(train_df_norm['latitude'])), \n",
        "                                     int(max(train_df_norm['latitude'])), \n",
        "                                     resolution_in_Zs))\n",
        "latitude = tf.feature_column.bucketized_column(latitude_as_a_numeric_column, latitude_boundaries)\n",
        "\n",
        "# Create a bucket feature column for longitude.\n",
        "longitude_as_a_numeric_column = tf.feature_column.numeric_column(\"longitude\")\n",
        "longitude_boundaries = list(np.arange(int(min(train_df_norm['longitude'])), \n",
        "                                      int(max(train_df_norm['longitude'])), \n",
        "                                      resolution_in_Zs))\n",
        "longitude = tf.feature_column.bucketized_column(longitude_as_a_numeric_column, \n",
        "                                                longitude_boundaries)\n",
        "\n",
        "# Create a feature cross of latitude and longitude.\n",
        "latitude_x_longitude = tf.feature_column.crossed_column([latitude, longitude], hash_bucket_size=100)\n",
        "crossed_feature = tf.feature_column.indicator_column(latitude_x_longitude)\n",
        "feature_columns.append(crossed_feature)  \n",
        "\n",
        "# Represent median_income as a floating-point value.\n",
        "median_income = tf.feature_column.numeric_column(\"median_income\")\n",
        "feature_columns.append(median_income)\n",
        "\n",
        "# Represent population as a floating-point value.\n",
        "population = tf.feature_column.numeric_column(\"population\")\n",
        "feature_columns.append(population)\n",
        "\n",
        "# Convert the list of feature columns into a layer that will later be fed into\n",
        "# the model. \n",
        "my_feature_layer = tf.keras.layers.DenseFeatures(feature_columns)"
      ]
    },
    {
      "cell_type": "markdown",
      "metadata": {
        "id": "Ak_TMAzGOIFq"
      },
      "source": [
        "## Build a linear regression model as a baseline\n",
        "\n",
        "Before creating a deep neural net, find a [baseline](https://developers.google.com/machine-learning/glossary/#baseline) loss by running a simple linear regression model that uses the feature layer you just created. \n"
      ]
    },
    {
      "cell_type": "code",
      "execution_count": 6,
      "metadata": {
        "cellView": "form",
        "id": "QF0BFRXTOeR3",
        "colab": {
          "base_uri": "https://localhost:8080/"
        },
        "outputId": "71e49d0f-41a7-4097-be1b-845c9125fd70"
      },
      "outputs": [
        {
          "output_type": "stream",
          "name": "stdout",
          "text": [
            "Defined the plot_the_loss_curve function.\n"
          ]
        }
      ],
      "source": [
        "#@title Define the plotting function.\n",
        "\n",
        "def plot_the_loss_curve(epochs, mse):\n",
        "  \"\"\"Plot a curve of loss vs. epoch.\"\"\"\n",
        "\n",
        "  plt.figure()\n",
        "  plt.xlabel(\"Epoch\")\n",
        "  plt.ylabel(\"Mean Squared Error\")\n",
        "\n",
        "  plt.plot(epochs, mse, label=\"Loss\")\n",
        "  plt.legend()\n",
        "  plt.ylim([mse.min()*0.95, mse.max() * 1.03])\n",
        "  plt.show()  \n",
        "\n",
        "print(\"Defined the plot_the_loss_curve function.\")"
      ]
    },
    {
      "cell_type": "code",
      "execution_count": 7,
      "metadata": {
        "id": "RW4Qe710LgnG",
        "colab": {
          "base_uri": "https://localhost:8080/"
        },
        "outputId": "8bcacbff-45bc-4058-9973-950906dd0b45"
      },
      "outputs": [
        {
          "output_type": "stream",
          "name": "stdout",
          "text": [
            "Defined the create_model and train_model functions.\n"
          ]
        }
      ],
      "source": [
        "#@title Define functions to create and train a linear regression model\n",
        "def create_model(my_learning_rate, feature_layer):\n",
        "  \"\"\"Create and compile a simple linear regression model.\"\"\"\n",
        "  # Most simple tf.keras models are sequential.\n",
        "  model = tf.keras.models.Sequential()\n",
        "\n",
        "  # Add the layer containing the feature columns to the model.\n",
        "  model.add(feature_layer)\n",
        "\n",
        "  # Add one linear layer to the model to yield a simple linear regressor.\n",
        "  model.add(tf.keras.layers.Dense(units=1, input_shape=(1,)))\n",
        "\n",
        "  # Construct the layers into a model that TensorFlow can execute.\n",
        "  model.compile(optimizer=tf.keras.optimizers.RMSprop(lr=my_learning_rate),\n",
        "                loss=\"mean_squared_error\",\n",
        "                metrics=[tf.keras.metrics.MeanSquaredError()])\n",
        "\n",
        "  return model           \n",
        "\n",
        "\n",
        "def train_model(model, dataset, epochs, batch_size, label_name):\n",
        "  \"\"\"Feed a dataset into the model in order to train it.\"\"\"\n",
        "\n",
        "  # Split the dataset into features and label.\n",
        "  features = {name:np.array(value) for name, value in dataset.items()}\n",
        "  label = np.array(features.pop(label_name))\n",
        "  history = model.fit(x=features, y=label, batch_size=batch_size,\n",
        "                      epochs=epochs, shuffle=True)\n",
        "\n",
        "  # Get details that will be useful for plotting the loss curve.\n",
        "  epochs = history.epoch\n",
        "  hist = pd.DataFrame(history.history)\n",
        "  rmse = hist[\"mean_squared_error\"]\n",
        "\n",
        "  return epochs, rmse   \n",
        "\n",
        "print(\"Defined the create_model and train_model functions.\")"
      ]
    },
    {
      "cell_type": "markdown",
      "metadata": {
        "id": "f47LmxF5X_pu"
      },
      "source": [
        "Run the following code cell to invoke the functions defined in the preceding two code cells. (Ignore the warning messages.)\n",
        "\n",
        "**Note:** Because we've scaled all the input data, **including the label**, the resulting loss values will be *much less* than previous models. \n",
        "\n",
        "**Note:** Depending on the version of TensorFlow, running this cell might generate WARNING messages. Please ignore these warnings. "
      ]
    },
    {
      "cell_type": "code",
      "execution_count": 8,
      "metadata": {
        "id": "tsfE4ujDL4ju",
        "colab": {
          "base_uri": "https://localhost:8080/",
          "height": 996
        },
        "outputId": "55854c26-d47b-4a17-a185-8d66432308a1"
      },
      "outputs": [
        {
          "output_type": "stream",
          "name": "stderr",
          "text": [
            "/usr/local/lib/python3.8/dist-packages/keras/optimizers/optimizer_v2/rmsprop.py:135: UserWarning: The `lr` argument is deprecated, use `learning_rate` instead.\n",
            "  super(RMSprop, self).__init__(name, **kwargs)\n"
          ]
        },
        {
          "output_type": "stream",
          "name": "stdout",
          "text": [
            "Epoch 1/15\n"
          ]
        },
        {
          "output_type": "stream",
          "name": "stderr",
          "text": [
            "WARNING:tensorflow:Layers in a Sequential model should only have a single input tensor. Received: inputs={'longitude': <tf.Tensor 'IteratorGetNext:3' shape=(1000,) dtype=float32>, 'latitude': <tf.Tensor 'IteratorGetNext:2' shape=(1000,) dtype=float32>, 'housing_median_age': <tf.Tensor 'IteratorGetNext:1' shape=(1000,) dtype=float32>, 'total_rooms': <tf.Tensor 'IteratorGetNext:7' shape=(1000,) dtype=float32>, 'total_bedrooms': <tf.Tensor 'IteratorGetNext:6' shape=(1000,) dtype=float32>, 'population': <tf.Tensor 'IteratorGetNext:5' shape=(1000,) dtype=float32>, 'households': <tf.Tensor 'IteratorGetNext:0' shape=(1000,) dtype=float32>, 'median_income': <tf.Tensor 'IteratorGetNext:4' shape=(1000,) dtype=float32>}. Consider rewriting this model with the Functional API.\n",
            "WARNING:tensorflow:Layers in a Sequential model should only have a single input tensor. Received: inputs={'longitude': <tf.Tensor 'IteratorGetNext:3' shape=(1000,) dtype=float32>, 'latitude': <tf.Tensor 'IteratorGetNext:2' shape=(1000,) dtype=float32>, 'housing_median_age': <tf.Tensor 'IteratorGetNext:1' shape=(1000,) dtype=float32>, 'total_rooms': <tf.Tensor 'IteratorGetNext:7' shape=(1000,) dtype=float32>, 'total_bedrooms': <tf.Tensor 'IteratorGetNext:6' shape=(1000,) dtype=float32>, 'population': <tf.Tensor 'IteratorGetNext:5' shape=(1000,) dtype=float32>, 'households': <tf.Tensor 'IteratorGetNext:0' shape=(1000,) dtype=float32>, 'median_income': <tf.Tensor 'IteratorGetNext:4' shape=(1000,) dtype=float32>}. Consider rewriting this model with the Functional API.\n"
          ]
        },
        {
          "output_type": "stream",
          "name": "stdout",
          "text": [
            "17/17 [==============================] - 3s 18ms/step - loss: 0.8083 - mean_squared_error: 0.8083\n",
            "Epoch 2/15\n",
            "17/17 [==============================] - 0s 13ms/step - loss: 0.5425 - mean_squared_error: 0.5425\n",
            "Epoch 3/15\n",
            "17/17 [==============================] - 0s 18ms/step - loss: 0.4316 - mean_squared_error: 0.4316\n",
            "Epoch 4/15\n",
            "17/17 [==============================] - 0s 20ms/step - loss: 0.3835 - mean_squared_error: 0.3835\n",
            "Epoch 5/15\n",
            "17/17 [==============================] - 0s 17ms/step - loss: 0.3677 - mean_squared_error: 0.3677\n",
            "Epoch 6/15\n",
            "17/17 [==============================] - 0s 16ms/step - loss: 0.3627 - mean_squared_error: 0.3627\n",
            "Epoch 7/15\n",
            "17/17 [==============================] - 0s 14ms/step - loss: 0.3613 - mean_squared_error: 0.3613\n",
            "Epoch 8/15\n",
            "17/17 [==============================] - 0s 21ms/step - loss: 0.3603 - mean_squared_error: 0.3603\n",
            "Epoch 9/15\n",
            "17/17 [==============================] - 0s 21ms/step - loss: 0.3605 - mean_squared_error: 0.3605\n",
            "Epoch 10/15\n",
            "17/17 [==============================] - 0s 8ms/step - loss: 0.3599 - mean_squared_error: 0.3599\n",
            "Epoch 11/15\n",
            "17/17 [==============================] - 0s 20ms/step - loss: 0.3598 - mean_squared_error: 0.3598\n",
            "Epoch 12/15\n",
            "17/17 [==============================] - 0s 9ms/step - loss: 0.3600 - mean_squared_error: 0.3600\n",
            "Epoch 13/15\n",
            "17/17 [==============================] - 0s 21ms/step - loss: 0.3599 - mean_squared_error: 0.3599\n",
            "Epoch 14/15\n",
            "17/17 [==============================] - 0s 11ms/step - loss: 0.3599 - mean_squared_error: 0.3599\n",
            "Epoch 15/15\n",
            "17/17 [==============================] - 0s 11ms/step - loss: 0.3599 - mean_squared_error: 0.3599\n"
          ]
        },
        {
          "output_type": "display_data",
          "data": {
            "text/plain": [
              "<Figure size 432x288 with 1 Axes>"
            ],
            "image/png": "[encoded data removed]"
          },
          "metadata": {
            "needs_background": "light"
          }
        },
        {
          "output_type": "stream",
          "name": "stdout",
          "text": [
            "\n",
            " Evaluate the linear regression model against the test set:\n"
          ]
        },
        {
          "output_type": "stream",
          "name": "stderr",
          "text": [
            "WARNING:tensorflow:Layers in a Sequential model should only have a single input tensor. Received: inputs={'longitude': <tf.Tensor 'IteratorGetNext:3' shape=(1000,) dtype=float32>, 'latitude': <tf.Tensor 'IteratorGetNext:2' shape=(1000,) dtype=float32>, 'housing_median_age': <tf.Tensor 'IteratorGetNext:1' shape=(1000,) dtype=float32>, 'total_rooms': <tf.Tensor 'IteratorGetNext:7' shape=(1000,) dtype=float32>, 'total_bedrooms': <tf.Tensor 'IteratorGetNext:6' shape=(1000,) dtype=float32>, 'population': <tf.Tensor 'IteratorGetNext:5' shape=(1000,) dtype=float32>, 'households': <tf.Tensor 'IteratorGetNext:0' shape=(1000,) dtype=float32>, 'median_income': <tf.Tensor 'IteratorGetNext:4' shape=(1000,) dtype=float32>}. Consider rewriting this model with the Functional API.\n"
          ]
        },
        {
          "output_type": "stream",
          "name": "stdout",
          "text": [
            "3/3 [==============================] - 1s 10ms/step - loss: 0.3956 - mean_squared_error: 0.3956\n"
          ]
        },
        {
          "output_type": "execute_result",
          "data": {
            "text/plain": [
              "[0.39555811882019043, 0.39555811882019043]"
            ]
          },
          "metadata": {},
          "execution_count": 8
        }
      ],
      "source": [
        "# The following variables are the hyperparameters.\n",
        "learning_rate = 0.01\n",
        "epochs = 15\n",
        "batch_size = 1000\n",
        "label_name = \"median_house_value\"\n",
        "\n",
        "# Establish the model's topography.\n",
        "my_model = create_model(learning_rate, my_feature_layer)\n",
        "\n",
        "# Train the model on the normalized training set.\n",
        "epochs, mse = train_model(my_model, train_df_norm, epochs, batch_size, label_name)\n",
        "plot_the_loss_curve(epochs, mse)\n",
        "\n",
        "test_features = {name:np.array(value) for name, value in test_df_norm.items()}\n",
        "test_label = np.array(test_features.pop(label_name)) # isolate the label\n",
        "print(\"\\n Evaluate the linear regression model against the test set:\")\n",
        "my_model.evaluate(x = test_features, y = test_label, batch_size=batch_size)"
      ]
    },
    {
      "cell_type": "markdown",
      "metadata": {
        "id": "3014ezH3C7jT"
      },
      "source": [
        "## Define a deep neural net model\n",
        "\n",
        "The `create_model` function defines the topography of the deep neural net, specifying the following:\n",
        "\n",
        "* The number of [layers](https://developers.google.com/machine-learning/glossary/#layer) in the deep neural net.\n",
        "* The number of [nodes](https://developers.google.com/machine-learning/glossary/#node) in each layer.\n",
        "\n",
        "The `create_model` function also defines the [activation function](https://developers.google.com/machine-learning/glossary/#activation_function) of each layer."
      ]
    },
    {
      "cell_type": "code",
      "execution_count": 37,
      "metadata": {
        "cellView": "both",
        "id": "pedD5GhlDC-y"
      },
      "outputs": [],
      "source": [
        "def create_model(my_learning_rate, my_feature_layer):\n",
        "  \"\"\"Create and compile a simple linear regression model.\"\"\"\n",
        "  # Most simple tf.keras models are sequential.\n",
        "  model = tf.keras.models.Sequential()\n",
        "\n",
        "  # Add the layer containing the feature columns to the model.\n",
        "  model.add(my_feature_layer)\n",
        "\n",
        "  # Describe the topography of the model by calling the tf.keras.layers.Dense\n",
        "  # method once for each layer. We've specified the following arguments:\n",
        "  #   * units specifies the number of nodes in this layer.\n",
        "  #   * activation specifies the activation function (Rectified Linear Unit).\n",
        "  #   * name is just a string that can be useful when debugging.\n",
        "\n",
        "  # Define the first hidden layer with 20 nodes.   \n",
        "  model.add(tf.keras.layers.Dense(units=10, \n",
        "                                  activation='relu', \n",
        "                                  kernel_regularizer=tf.keras.regularizers.l1(l=0.01),\n",
        "                                  name='Hidden1'))\n",
        "  \n",
        "  # Define the second hidden layer with 12 nodes. \n",
        "  model.add(tf.keras.layers.Dense(units=6, \n",
        "                                  activation='relu',\n",
        "                                  kernel_regularizer=tf.keras.regularizers.l1(l=0.01),\n",
        "                                  name='Hidden2'))\n",
        "\n",
        "  \n",
        "  # Define the output layer.\n",
        "  model.add(tf.keras.layers.Dense(units=1,  \n",
        "                                  name='Output'))                              \n",
        "  \n",
        "  model.compile(optimizer=tf.keras.optimizers.Adam(lr=my_learning_rate),\n",
        "                loss=\"mean_squared_error\",\n",
        "                metrics=[tf.keras.metrics.MeanSquaredError()])\n",
        "\n",
        "  return model"
      ]
    },
    {
      "cell_type": "markdown",
      "metadata": {
        "id": "anH4A_yCcZx2"
      },
      "source": [
        "## Define a training function\n",
        "\n",
        "The `train_model` function trains the model from the input features and labels. The [tf.keras.Model.fit](https://www.tensorflow.org/api_docs/python/tf/keras/Sequential#fit) method performs the actual training. The `x` parameter of the `fit` method is very flexible, enabling you to pass feature data in a variety of ways. The following implementation passes a Python dictionary in which:\n",
        "\n",
        "* The *keys* are the names of each feature (for example, `longitude`, `latitude`, and so on).\n",
        "* The *value* of each key is a NumPy array containing the values of that feature. \n",
        "\n",
        "**Note:** Although you are passing *every* feature to `model.fit`, most of those values will be ignored. Only the features accessed by `my_feature_layer` will actually be used to train the model."
      ]
    },
    {
      "cell_type": "code",
      "execution_count": 38,
      "metadata": {
        "id": "4jv_lJYTcrEF"
      },
      "outputs": [],
      "source": [
        "def train_model(model, dataset, epochs, label_name,\n",
        "                batch_size=None):\n",
        "  \"\"\"Train the model by feeding it data.\"\"\"\n",
        "\n",
        "  # Split the dataset into features and label.\n",
        "  features = {name:np.array(value) for name, value in dataset.items()}\n",
        "  label = np.array(features.pop(label_name))\n",
        "  history = model.fit(x=features, y=label, batch_size=batch_size,\n",
        "                      epochs=epochs, shuffle=True) \n",
        "\n",
        "  # The list of epochs is stored separately from the rest of history.\n",
        "  epochs = history.epoch\n",
        "  \n",
        "  # To track the progression of training, gather a snapshot\n",
        "  # of the model's mean squared error at each epoch. \n",
        "  hist = pd.DataFrame(history.history)\n",
        "  mse = hist[\"mean_squared_error\"]\n",
        "\n",
        "  return epochs, mse"
      ]
    },
    {
      "cell_type": "markdown",
      "metadata": {
        "id": "D-IXYVfvM4gD"
      },
      "source": [
        "## Call the functions to build and train a deep neural net\n",
        "\n",
        "Okay, it is time to actually train the deep neural net.  If time permits, experiment with the three hyperparameters to see if you can reduce the loss\n",
        "against the test set.\n"
      ]
    },
    {
      "cell_type": "code",
      "execution_count": 39,
      "metadata": {
        "cellView": "both",
        "id": "nj3v5EKQFY8s",
        "colab": {
          "base_uri": "https://localhost:8080/",
          "height": 1000
        },
        "outputId": "8286b5d9-d565-4ef6-927e-f10c00c208bd"
      },
      "outputs": [
        {
          "output_type": "stream",
          "name": "stdout",
          "text": [
            "Epoch 1/100\n"
          ]
        },
        {
          "output_type": "stream",
          "name": "stderr",
          "text": [
            "/usr/local/lib/python3.8/dist-packages/keras/optimizers/optimizer_v2/adam.py:110: UserWarning: The `lr` argument is deprecated, use `learning_rate` instead.\n",
            "  super(Adam, self).__init__(name, **kwargs)\n",
            "WARNING:tensorflow:Layers in a Sequential model should only have a single input tensor. Received: inputs={'longitude': <tf.Tensor 'IteratorGetNext:3' shape=(1000,) dtype=float32>, 'latitude': <tf.Tensor 'IteratorGetNext:2' shape=(1000,) dtype=float32>, 'housing_median_age': <tf.Tensor 'IteratorGetNext:1' shape=(1000,) dtype=float32>, 'total_rooms': <tf.Tensor 'IteratorGetNext:7' shape=(1000,) dtype=float32>, 'total_bedrooms': <tf.Tensor 'IteratorGetNext:6' shape=(1000,) dtype=float32>, 'population': <tf.Tensor 'IteratorGetNext:5' shape=(1000,) dtype=float32>, 'households': <tf.Tensor 'IteratorGetNext:0' shape=(1000,) dtype=float32>, 'median_income': <tf.Tensor 'IteratorGetNext:4' shape=(1000,) dtype=float32>}. Consider rewriting this model with the Functional API.\n",
            "WARNING:tensorflow:Layers in a Sequential model should only have a single input tensor. Received: inputs={'longitude': <tf.Tensor 'IteratorGetNext:3' shape=(1000,) dtype=float32>, 'latitude': <tf.Tensor 'IteratorGetNext:2' shape=(1000,) dtype=float32>, 'housing_median_age': <tf.Tensor 'IteratorGetNext:1' shape=(1000,) dtype=float32>, 'total_rooms': <tf.Tensor 'IteratorGetNext:7' shape=(1000,) dtype=float32>, 'total_bedrooms': <tf.Tensor 'IteratorGetNext:6' shape=(1000,) dtype=float32>, 'population': <tf.Tensor 'IteratorGetNext:5' shape=(1000,) dtype=float32>, 'households': <tf.Tensor 'IteratorGetNext:0' shape=(1000,) dtype=float32>, 'median_income': <tf.Tensor 'IteratorGetNext:4' shape=(1000,) dtype=float32>}. Consider rewriting this model with the Functional API.\n"
          ]
        },
        {
          "output_type": "stream",
          "name": "stdout",
          "text": [
            "17/17 [==============================] - 1s 4ms/step - loss: 1.5266 - mean_squared_error: 0.7583\n",
            "Epoch 2/100\n",
            "17/17 [==============================] - 0s 4ms/step - loss: 0.7155 - mean_squared_error: 0.4311\n",
            "Epoch 3/100\n",
            "17/17 [==============================] - 0s 5ms/step - loss: 0.5811 - mean_squared_error: 0.3945\n",
            "Epoch 4/100\n",
            "17/17 [==============================] - 0s 5ms/step - loss: 0.5203 - mean_squared_error: 0.3813\n",
            "Epoch 5/100\n",
            "17/17 [==============================] - 0s 5ms/step - loss: 0.4904 - mean_squared_error: 0.3718\n",
            "Epoch 6/100\n",
            "17/17 [==============================] - 0s 5ms/step - loss: 0.4750 - mean_squared_error: 0.3679\n",
            "Epoch 7/100\n",
            "17/17 [==============================] - 0s 4ms/step - loss: 0.4649 - mean_squared_error: 0.3645\n",
            "Epoch 8/100\n",
            "17/17 [==============================] - 0s 5ms/step - loss: 0.4602 - mean_squared_error: 0.3655\n",
            "Epoch 9/100\n",
            "17/17 [==============================] - 0s 4ms/step - loss: 0.4535 - mean_squared_error: 0.3625\n",
            "Epoch 10/100\n",
            "17/17 [==============================] - 0s 4ms/step - loss: 0.4484 - mean_squared_error: 0.3609\n",
            "Epoch 11/100\n",
            "17/17 [==============================] - 0s 4ms/step - loss: 0.4453 - mean_squared_error: 0.3609\n",
            "Epoch 12/100\n",
            "17/17 [==============================] - 0s 5ms/step - loss: 0.4415 - mean_squared_error: 0.3594\n",
            "Epoch 13/100\n",
            "17/17 [==============================] - 0s 5ms/step - loss: 0.4404 - mean_squared_error: 0.3623\n",
            "Epoch 14/100\n",
            "17/17 [==============================] - 0s 4ms/step - loss: 0.4364 - mean_squared_error: 0.3601\n",
            "Epoch 15/100\n",
            "17/17 [==============================] - 0s 5ms/step - loss: 0.4345 - mean_squared_error: 0.3608\n",
            "Epoch 16/100\n",
            "17/17 [==============================] - 0s 4ms/step - loss: 0.4323 - mean_squared_error: 0.3602\n",
            "Epoch 17/100\n",
            "17/17 [==============================] - 0s 4ms/step - loss: 0.4299 - mean_squared_error: 0.3594\n",
            "Epoch 18/100\n",
            "17/17 [==============================] - 0s 4ms/step - loss: 0.4303 - mean_squared_error: 0.3609\n",
            "Epoch 19/100\n",
            "17/17 [==============================] - 0s 4ms/step - loss: 0.4276 - mean_squared_error: 0.3593\n",
            "Epoch 20/100\n",
            "17/17 [==============================] - 0s 4ms/step - loss: 0.4260 - mean_squared_error: 0.3589\n",
            "Epoch 21/100\n",
            "17/17 [==============================] - 0s 4ms/step - loss: 0.4257 - mean_squared_error: 0.3600\n",
            "Epoch 22/100\n",
            "17/17 [==============================] - 0s 4ms/step - loss: 0.4223 - mean_squared_error: 0.3584\n",
            "Epoch 23/100\n",
            "17/17 [==============================] - 0s 4ms/step - loss: 0.4221 - mean_squared_error: 0.3581\n",
            "Epoch 24/100\n",
            "17/17 [==============================] - 0s 5ms/step - loss: 0.4203 - mean_squared_error: 0.3585\n",
            "Epoch 25/100\n",
            "17/17 [==============================] - 0s 4ms/step - loss: 0.4204 - mean_squared_error: 0.3601\n",
            "Epoch 26/100\n",
            "17/17 [==============================] - 0s 4ms/step - loss: 0.4215 - mean_squared_error: 0.3616\n",
            "Epoch 27/100\n",
            "17/17 [==============================] - 0s 5ms/step - loss: 0.4183 - mean_squared_error: 0.3590\n",
            "Epoch 28/100\n",
            "17/17 [==============================] - 0s 5ms/step - loss: 0.4167 - mean_squared_error: 0.3584\n",
            "Epoch 29/100\n",
            "17/17 [==============================] - 0s 4ms/step - loss: 0.4157 - mean_squared_error: 0.3588\n",
            "Epoch 30/100\n",
            "17/17 [==============================] - 0s 5ms/step - loss: 0.4143 - mean_squared_error: 0.3577\n",
            "Epoch 31/100\n",
            "17/17 [==============================] - 0s 4ms/step - loss: 0.4155 - mean_squared_error: 0.3590\n",
            "Epoch 32/100\n",
            "17/17 [==============================] - 0s 4ms/step - loss: 0.4146 - mean_squared_error: 0.3588\n",
            "Epoch 33/100\n",
            "17/17 [==============================] - 0s 3ms/step - loss: 0.4160 - mean_squared_error: 0.3601\n",
            "Epoch 34/100\n",
            "17/17 [==============================] - 0s 5ms/step - loss: 0.4124 - mean_squared_error: 0.3570\n",
            "Epoch 35/100\n",
            "17/17 [==============================] - 0s 4ms/step - loss: 0.4133 - mean_squared_error: 0.3581\n",
            "Epoch 36/100\n",
            "17/17 [==============================] - 0s 5ms/step - loss: 0.4118 - mean_squared_error: 0.3572\n",
            "Epoch 37/100\n",
            "17/17 [==============================] - 0s 4ms/step - loss: 0.4140 - mean_squared_error: 0.3589\n",
            "Epoch 38/100\n",
            "17/17 [==============================] - 0s 4ms/step - loss: 0.4129 - mean_squared_error: 0.3582\n",
            "Epoch 39/100\n",
            "17/17 [==============================] - 0s 5ms/step - loss: 0.4117 - mean_squared_error: 0.3572\n",
            "Epoch 40/100\n",
            "17/17 [==============================] - 0s 5ms/step - loss: 0.4135 - mean_squared_error: 0.3591\n",
            "Epoch 41/100\n",
            "17/17 [==============================] - 0s 4ms/step - loss: 0.4120 - mean_squared_error: 0.3577\n",
            "Epoch 42/100\n",
            "17/17 [==============================] - 0s 5ms/step - loss: 0.4110 - mean_squared_error: 0.3568\n",
            "Epoch 43/100\n",
            "17/17 [==============================] - 0s 4ms/step - loss: 0.4100 - mean_squared_error: 0.3552\n",
            "Epoch 44/100\n",
            "17/17 [==============================] - 0s 4ms/step - loss: 0.4105 - mean_squared_error: 0.3566\n",
            "Epoch 45/100\n",
            "17/17 [==============================] - 0s 4ms/step - loss: 0.4090 - mean_squared_error: 0.3553\n",
            "Epoch 46/100\n",
            "17/17 [==============================] - 0s 4ms/step - loss: 0.4092 - mean_squared_error: 0.3566\n",
            "Epoch 47/100\n",
            "17/17 [==============================] - 0s 4ms/step - loss: 0.4094 - mean_squared_error: 0.3555\n",
            "Epoch 48/100\n",
            "17/17 [==============================] - 0s 5ms/step - loss: 0.4097 - mean_squared_error: 0.3561\n",
            "Epoch 49/100\n",
            "17/17 [==============================] - 0s 5ms/step - loss: 0.4091 - mean_squared_error: 0.3558\n",
            "Epoch 50/100\n",
            "17/17 [==============================] - 0s 5ms/step - loss: 0.4093 - mean_squared_error: 0.3567\n",
            "Epoch 51/100\n",
            "17/17 [==============================] - 0s 4ms/step - loss: 0.4094 - mean_squared_error: 0.3557\n",
            "Epoch 52/100\n",
            "17/17 [==============================] - 0s 5ms/step - loss: 0.4087 - mean_squared_error: 0.3561\n",
            "Epoch 53/100\n",
            "17/17 [==============================] - 0s 4ms/step - loss: 0.4088 - mean_squared_error: 0.3560\n",
            "Epoch 54/100\n",
            "17/17 [==============================] - 0s 5ms/step - loss: 0.4086 - mean_squared_error: 0.3561\n",
            "Epoch 55/100\n",
            "17/17 [==============================] - 0s 4ms/step - loss: 0.4076 - mean_squared_error: 0.3541\n",
            "Epoch 56/100\n",
            "17/17 [==============================] - 0s 5ms/step - loss: 0.4067 - mean_squared_error: 0.3551\n",
            "Epoch 57/100\n",
            "17/17 [==============================] - 0s 4ms/step - loss: 0.4079 - mean_squared_error: 0.3557\n",
            "Epoch 58/100\n",
            "17/17 [==============================] - 0s 5ms/step - loss: 0.4070 - mean_squared_error: 0.3543\n",
            "Epoch 59/100\n",
            "17/17 [==============================] - 0s 5ms/step - loss: 0.4063 - mean_squared_error: 0.3544\n",
            "Epoch 60/100\n",
            "17/17 [==============================] - 0s 6ms/step - loss: 0.4072 - mean_squared_error: 0.3554\n",
            "Epoch 61/100\n",
            "17/17 [==============================] - 0s 4ms/step - loss: 0.4062 - mean_squared_error: 0.3540\n",
            "Epoch 62/100\n",
            "17/17 [==============================] - 0s 5ms/step - loss: 0.4066 - mean_squared_error: 0.3553\n",
            "Epoch 63/100\n",
            "17/17 [==============================] - 0s 4ms/step - loss: 0.4070 - mean_squared_error: 0.3548\n",
            "Epoch 64/100\n",
            "17/17 [==============================] - 0s 5ms/step - loss: 0.4071 - mean_squared_error: 0.3556\n",
            "Epoch 65/100\n",
            "17/17 [==============================] - 0s 4ms/step - loss: 0.4076 - mean_squared_error: 0.3560\n",
            "Epoch 66/100\n",
            "17/17 [==============================] - 0s 5ms/step - loss: 0.4067 - mean_squared_error: 0.3559\n",
            "Epoch 67/100\n",
            "17/17 [==============================] - 0s 4ms/step - loss: 0.4052 - mean_squared_error: 0.3529\n",
            "Epoch 68/100\n",
            "17/17 [==============================] - 0s 4ms/step - loss: 0.4057 - mean_squared_error: 0.3549\n",
            "Epoch 69/100\n",
            "17/17 [==============================] - 0s 4ms/step - loss: 0.4062 - mean_squared_error: 0.3548\n",
            "Epoch 70/100\n",
            "17/17 [==============================] - 0s 4ms/step - loss: 0.4063 - mean_squared_error: 0.3553\n",
            "Epoch 71/100\n",
            "17/17 [==============================] - 0s 4ms/step - loss: 0.4066 - mean_squared_error: 0.3552\n",
            "Epoch 72/100\n",
            "17/17 [==============================] - 0s 5ms/step - loss: 0.4085 - mean_squared_error: 0.3575\n",
            "Epoch 73/100\n",
            "17/17 [==============================] - 0s 4ms/step - loss: 0.4048 - mean_squared_error: 0.3541\n",
            "Epoch 74/100\n",
            "17/17 [==============================] - 0s 5ms/step - loss: 0.4050 - mean_squared_error: 0.3541\n",
            "Epoch 75/100\n",
            "17/17 [==============================] - 0s 4ms/step - loss: 0.4047 - mean_squared_error: 0.3541\n",
            "Epoch 76/100\n",
            "17/17 [==============================] - 0s 4ms/step - loss: 0.4053 - mean_squared_error: 0.3550\n",
            "Epoch 77/100\n",
            "17/17 [==============================] - 0s 5ms/step - loss: 0.4070 - mean_squared_error: 0.3564\n",
            "Epoch 78/100\n",
            "17/17 [==============================] - 0s 4ms/step - loss: 0.4048 - mean_squared_error: 0.3538\n",
            "Epoch 79/100\n",
            "17/17 [==============================] - 0s 5ms/step - loss: 0.4057 - mean_squared_error: 0.3553\n",
            "Epoch 80/100\n",
            "17/17 [==============================] - 0s 4ms/step - loss: 0.4063 - mean_squared_error: 0.3559\n",
            "Epoch 81/100\n",
            "17/17 [==============================] - 0s 4ms/step - loss: 0.4066 - mean_squared_error: 0.3569\n",
            "Epoch 82/100\n",
            "17/17 [==============================] - 0s 4ms/step - loss: 0.4062 - mean_squared_error: 0.3563\n",
            "Epoch 83/100\n",
            "17/17 [==============================] - 0s 5ms/step - loss: 0.4061 - mean_squared_error: 0.3556\n",
            "Epoch 84/100\n",
            "17/17 [==============================] - 0s 6ms/step - loss: 0.4056 - mean_squared_error: 0.3554\n",
            "Epoch 85/100\n",
            "17/17 [==============================] - 0s 5ms/step - loss: 0.4047 - mean_squared_error: 0.3550\n",
            "Epoch 86/100\n",
            "17/17 [==============================] - 0s 4ms/step - loss: 0.4043 - mean_squared_error: 0.3546\n",
            "Epoch 87/100\n",
            "17/17 [==============================] - 0s 4ms/step - loss: 0.4062 - mean_squared_error: 0.3569\n",
            "Epoch 88/100\n",
            "17/17 [==============================] - 0s 4ms/step - loss: 0.4033 - mean_squared_error: 0.3533\n",
            "Epoch 89/100\n",
            "17/17 [==============================] - 0s 4ms/step - loss: 0.4027 - mean_squared_error: 0.3538\n",
            "Epoch 90/100\n",
            "17/17 [==============================] - 0s 4ms/step - loss: 0.4027 - mean_squared_error: 0.3531\n",
            "Epoch 91/100\n",
            "17/17 [==============================] - 0s 4ms/step - loss: 0.4024 - mean_squared_error: 0.3530\n",
            "Epoch 92/100\n",
            "17/17 [==============================] - 0s 4ms/step - loss: 0.4043 - mean_squared_error: 0.3547\n",
            "Epoch 93/100\n",
            "17/17 [==============================] - 0s 5ms/step - loss: 0.4045 - mean_squared_error: 0.3553\n",
            "Epoch 94/100\n",
            "17/17 [==============================] - 0s 4ms/step - loss: 0.4053 - mean_squared_error: 0.3554\n",
            "Epoch 95/100\n",
            "17/17 [==============================] - 0s 5ms/step - loss: 0.4026 - mean_squared_error: 0.3538\n",
            "Epoch 96/100\n",
            "17/17 [==============================] - 0s 5ms/step - loss: 0.4021 - mean_squared_error: 0.3530\n",
            "Epoch 97/100\n",
            "17/17 [==============================] - 0s 5ms/step - loss: 0.4030 - mean_squared_error: 0.3543\n",
            "Epoch 98/100\n",
            "17/17 [==============================] - 0s 4ms/step - loss: 0.4032 - mean_squared_error: 0.3547\n",
            "Epoch 99/100\n",
            "17/17 [==============================] - 0s 5ms/step - loss: 0.4045 - mean_squared_error: 0.3553\n",
            "Epoch 100/100\n",
            "17/17 [==============================] - 0s 4ms/step - loss: 0.4036 - mean_squared_error: 0.3551\n"
          ]
        },
        {
          "output_type": "display_data",
          "data": {
            "text/plain": [
              "<Figure size 432x288 with 1 Axes>"
            ],
            "image/png": "[encoded data removed]"
          },
          "metadata": {
            "needs_background": "light"
          }
        },
        {
          "output_type": "stream",
          "name": "stderr",
          "text": [
            "WARNING:tensorflow:Layers in a Sequential model should only have a single input tensor. Received: inputs={'longitude': <tf.Tensor 'IteratorGetNext:3' shape=(1000,) dtype=float32>, 'latitude': <tf.Tensor 'IteratorGetNext:2' shape=(1000,) dtype=float32>, 'housing_median_age': <tf.Tensor 'IteratorGetNext:1' shape=(1000,) dtype=float32>, 'total_rooms': <tf.Tensor 'IteratorGetNext:7' shape=(1000,) dtype=float32>, 'total_bedrooms': <tf.Tensor 'IteratorGetNext:6' shape=(1000,) dtype=float32>, 'population': <tf.Tensor 'IteratorGetNext:5' shape=(1000,) dtype=float32>, 'households': <tf.Tensor 'IteratorGetNext:0' shape=(1000,) dtype=float32>, 'median_income': <tf.Tensor 'IteratorGetNext:4' shape=(1000,) dtype=float32>}. Consider rewriting this model with the Functional API.\n"
          ]
        },
        {
          "output_type": "stream",
          "name": "stdout",
          "text": [
            "\n",
            " Evaluate the new model against the test set:\n",
            "3/3 [==============================] - 0s 5ms/step - loss: 0.4342 - mean_squared_error: 0.3858\n"
          ]
        },
        {
          "output_type": "execute_result",
          "data": {
            "text/plain": [
              "[0.4341517686843872, 0.38576915860176086]"
            ]
          },
          "metadata": {},
          "execution_count": 39
        }
      ],
      "source": [
        "# The following variables are the hyperparameters.\n",
        "learning_rate = 0.01\n",
        "epochs = 100\n",
        "batch_size = 1000\n",
        "\n",
        "# Specify the label\n",
        "label_name = \"median_house_value\"\n",
        "\n",
        "# Establish the model's topography.\n",
        "my_model = create_model(learning_rate, my_feature_layer)\n",
        "\n",
        "# Train the model on the normalized training set. We're passing the entire\n",
        "# normalized training set, but the model will only use the features\n",
        "# defined by the feature_layer.\n",
        "epochs, mse = train_model(my_model, train_df_norm, epochs, \n",
        "                          label_name, batch_size)\n",
        "plot_the_loss_curve(epochs, mse)\n",
        "\n",
        "# After building a model against the training set, test that model\n",
        "# against the test set.\n",
        "test_features = {name:np.array(value) for name, value in test_df_norm.items()}\n",
        "test_label = np.array(test_features.pop(label_name)) # isolate the label\n",
        "print(\"\\n Evaluate the new model against the test set:\")\n",
        "my_model.evaluate(x = test_features, y = test_label, batch_size=batch_size)"
      ]
    },
    {
      "cell_type": "markdown",
      "metadata": {
        "id": "wlPXK-SmmjQ2"
      },
      "source": [
        "## Task 1: Compare the two models\n",
        "\n",
        "How did the deep neural net perform against the baseline linear regression model?"
      ]
    },
    {
      "cell_type": "code",
      "execution_count": 12,
      "metadata": {
        "cellView": "form",
        "id": "hI7ojsL7nnBE"
      },
      "outputs": [],
      "source": [
        "#@title Double-click to view a possible answer\n",
        "\n",
        "# Assuming that the linear model converged and\n",
        "# the deep neural net model also converged, please \n",
        "# compare the test set loss for each.\n",
        "# In our experiments, the loss of the deep neural \n",
        "# network model was consistently lower than \n",
        "# that of the linear regression model, which \n",
        "# suggests that the deep neural network model \n",
        "# will make better predictions than the \n",
        "# linear regression model."
      ]
    },
    {
      "cell_type": "markdown",
      "metadata": {
        "id": "Y5IKmk7D49_n"
      },
      "source": [
        "## Task 2: Optimize the deep neural network's topography\n",
        "\n",
        "Experiment with the number of layers of the deep neural network and the number of nodes in each layer.  Aim to achieve both of the following goals:\n",
        "\n",
        "*  Lower the loss against the test set.\n",
        "*  Minimize the overall number of nodes in the deep neural net. \n",
        "\n",
        "The two goals may be in conflict."
      ]
    },
    {
      "cell_type": "code",
      "execution_count": 13,
      "metadata": {
        "id": "wYG5qXpP5a9n"
      },
      "outputs": [],
      "source": [
        "#@title Double-click to view a possible answer\n",
        "\n",
        "# Many answers are possible.  We noticed the \n",
        "# following trends:\n",
        "#   * Two layers outperformed one layer, but \n",
        "#     three layers did not perform significantly \n",
        "#     better than two layers.\n",
        "#     In other words, two layers seemed best. \n",
        "#   * Setting the topography as follows produced \n",
        "#     reasonably good results with relatively few \n",
        "#     nodes:\n",
        "#       * 10 nodes in the first layer.\n",
        "#       *  6 nodes in the second layer.\n",
        "#     As the number of nodes in each layer dropped\n",
        "#     below the preceding, test loss increased.  \n",
        "#     However, depending on your application, hardware\n",
        "#     constraints, and the relative pain inflicted \n",
        "#     by a less accurate model, a smaller network \n",
        "#     (for example, 6 nodes in the first layer and \n",
        "#     4 nodes in the second layer) might be \n",
        "#     acceptable."
      ]
    },
    {
      "cell_type": "markdown",
      "metadata": {
        "id": "Pu7R_ZpDopIj"
      },
      "source": [
        "## Task 3: Regularize the deep neural network (if you have enough time)\n",
        "\n",
        "Notice that the model's loss against the test set is *much higher* than the loss against the training set.  In other words, the deep neural network is [overfitting](https://developers.google.com/machine-learning/glossary/#overfitting) to the data in the training set.  To reduce overfitting, regularize the model.  The course has suggested several different ways to regularize a model, including:\n",
        "\n",
        "  * [L1 regularization](https://developers.google.com/machine-learning/glossary/#L1_regularization)\n",
        "  * [L2 regularization](https://developers.google.com/machine-learning/glossary/#L2_regularization)\n",
        "  * [Dropout regularization](https://developers.google.com/machine-learning/glossary/#dropout_regularization)\n",
        "\n",
        "Your task is to experiment with one or more regularization mechanisms to bring the test loss closer to the training loss (while still keeping test loss relatively low).  \n",
        "\n",
        "**Note:** When you add a regularization function to a model, you might need to tweak other hyperparameters. \n",
        "\n",
        "### Implementing L1 or L2 regularization\n",
        "\n",
        "To use L1 or L2 regularization on a hidden layer, specify the `kernel_regularizer` argument to [tf.keras.layers.Dense](https://www.tensorflow.org/api_docs/python/tf/keras/layers/Dense). Assign one of the following methods to this argument:\n",
        "\n",
        "* `tf.keras.regularizers.l1` for L1 regularization\n",
        "* `tf.keras.regularizers.l2` for L2 regularization\n",
        "\n",
        "Each of the preceding methods takes an `l` parameter, which adjusts the [regularization rate](https://developers.google.com/machine-learning/glossary/#regularization_rate). Assign a decimal value between 0 and 1.0 to `l`; the higher the decimal, the greater the regularization. For example, the following applies L2 regularization at a strength of 0.01. \n",
        "\n",
        "```\n",
        "model.add(tf.keras.layers.Dense(units=20, \n",
        "                                activation='relu',\n",
        "                                kernel_regularizer=tf.keras.regularizers.l2(l=0.01),\n",
        "                                name='Hidden1'))\n",
        "```\n",
        "\n",
        "### Implementing Dropout regularization\n",
        "\n",
        "You implement dropout regularization as a separate layer in the topography. For example, the following code demonstrates how to add a dropout regularization layer between the first hidden layer and the second hidden layer:\n",
        "\n",
        "```\n",
        "model.add(tf.keras.layers.Dense( *define first hidden layer*)\n",
        " \n",
        "model.add(tf.keras.layers.Dropout(rate=0.25))\n",
        "\n",
        "model.add(tf.keras.layers.Dense( *define second hidden layer*)\n",
        "```\n",
        "\n",
        "The `rate` parameter to [tf.keras.layers.Dropout](https://www.tensorflow.org/api_docs/python/tf/keras/layers/Dropout) specifies the fraction of nodes that the model should drop out during training. \n"
      ]
    },
    {
      "cell_type": "code",
      "execution_count": 14,
      "metadata": {
        "id": "tflt9TZEDARW",
        "colab": {
          "base_uri": "https://localhost:8080/",
          "height": 1000
        },
        "outputId": "372e42f7-f1a1-4044-d927-2a0faae89b10"
      },
      "outputs": [
        {
          "output_type": "stream",
          "name": "stdout",
          "text": [
            "Epoch 1/140\n"
          ]
        },
        {
          "output_type": "stream",
          "name": "stderr",
          "text": [
            "/usr/local/lib/python3.8/dist-packages/keras/optimizers/optimizer_v2/adam.py:110: UserWarning: The `lr` argument is deprecated, use `learning_rate` instead.\n",
            "  super(Adam, self).__init__(name, **kwargs)\n",
            "WARNING:tensorflow:Layers in a Sequential model should only have a single input tensor. Received: inputs={'longitude': <tf.Tensor 'IteratorGetNext:3' shape=(1000,) dtype=float32>, 'latitude': <tf.Tensor 'IteratorGetNext:2' shape=(1000,) dtype=float32>, 'housing_median_age': <tf.Tensor 'IteratorGetNext:1' shape=(1000,) dtype=float32>, 'total_rooms': <tf.Tensor 'IteratorGetNext:7' shape=(1000,) dtype=float32>, 'total_bedrooms': <tf.Tensor 'IteratorGetNext:6' shape=(1000,) dtype=float32>, 'population': <tf.Tensor 'IteratorGetNext:5' shape=(1000,) dtype=float32>, 'households': <tf.Tensor 'IteratorGetNext:0' shape=(1000,) dtype=float32>, 'median_income': <tf.Tensor 'IteratorGetNext:4' shape=(1000,) dtype=float32>}. Consider rewriting this model with the Functional API.\n",
            "WARNING:tensorflow:Layers in a Sequential model should only have a single input tensor. Received: inputs={'longitude': <tf.Tensor 'IteratorGetNext:3' shape=(1000,) dtype=float32>, 'latitude': <tf.Tensor 'IteratorGetNext:2' shape=(1000,) dtype=float32>, 'housing_median_age': <tf.Tensor 'IteratorGetNext:1' shape=(1000,) dtype=float32>, 'total_rooms': <tf.Tensor 'IteratorGetNext:7' shape=(1000,) dtype=float32>, 'total_bedrooms': <tf.Tensor 'IteratorGetNext:6' shape=(1000,) dtype=float32>, 'population': <tf.Tensor 'IteratorGetNext:5' shape=(1000,) dtype=float32>, 'households': <tf.Tensor 'IteratorGetNext:0' shape=(1000,) dtype=float32>, 'median_income': <tf.Tensor 'IteratorGetNext:4' shape=(1000,) dtype=float32>}. Consider rewriting this model with the Functional API.\n"
          ]
        },
        {
          "output_type": "stream",
          "name": "stdout",
          "text": [
            "17/17 [==============================] - 1s 5ms/step - loss: 1.8040 - mean_squared_error: 0.6750\n",
            "Epoch 2/140\n",
            "17/17 [==============================] - 0s 4ms/step - loss: 0.7700 - mean_squared_error: 0.4370\n",
            "Epoch 3/140\n",
            "17/17 [==============================] - 0s 6ms/step - loss: 0.5650 - mean_squared_error: 0.4012\n",
            "Epoch 4/140\n",
            "17/17 [==============================] - 0s 5ms/step - loss: 0.4955 - mean_squared_error: 0.3842\n",
            "Epoch 5/140\n",
            "17/17 [==============================] - 0s 4ms/step - loss: 0.4667 - mean_squared_error: 0.3791\n",
            "Epoch 6/140\n",
            "17/17 [==============================] - 0s 6ms/step - loss: 0.4559 - mean_squared_error: 0.3771\n",
            "Epoch 7/140\n",
            "17/17 [==============================] - 0s 5ms/step - loss: 0.4453 - mean_squared_error: 0.3723\n",
            "Epoch 8/140\n",
            "17/17 [==============================] - 0s 5ms/step - loss: 0.4400 - mean_squared_error: 0.3702\n",
            "Epoch 9/140\n",
            "17/17 [==============================] - 0s 4ms/step - loss: 0.4351 - mean_squared_error: 0.3697\n",
            "Epoch 10/140\n",
            "17/17 [==============================] - 0s 5ms/step - loss: 0.4328 - mean_squared_error: 0.3677\n",
            "Epoch 11/140\n",
            "17/17 [==============================] - 0s 6ms/step - loss: 0.4299 - mean_squared_error: 0.3687\n",
            "Epoch 12/140\n",
            "17/17 [==============================] - 0s 5ms/step - loss: 0.4278 - mean_squared_error: 0.3669\n",
            "Epoch 13/140\n",
            "17/17 [==============================] - 0s 5ms/step - loss: 0.4232 - mean_squared_error: 0.3641\n",
            "Epoch 14/140\n",
            "17/17 [==============================] - 0s 5ms/step - loss: 0.4212 - mean_squared_error: 0.3630\n",
            "Epoch 15/140\n",
            "17/17 [==============================] - 0s 5ms/step - loss: 0.4189 - mean_squared_error: 0.3615\n",
            "Epoch 16/140\n",
            "17/17 [==============================] - 0s 5ms/step - loss: 0.4180 - mean_squared_error: 0.3615\n",
            "Epoch 17/140\n",
            "17/17 [==============================] - 0s 5ms/step - loss: 0.4165 - mean_squared_error: 0.3624\n",
            "Epoch 18/140\n",
            "17/17 [==============================] - 0s 6ms/step - loss: 0.4139 - mean_squared_error: 0.3588\n",
            "Epoch 19/140\n",
            "17/17 [==============================] - 0s 5ms/step - loss: 0.4124 - mean_squared_error: 0.3583\n",
            "Epoch 20/140\n",
            "17/17 [==============================] - 0s 5ms/step - loss: 0.4125 - mean_squared_error: 0.3599\n",
            "Epoch 21/140\n",
            "17/17 [==============================] - 0s 5ms/step - loss: 0.4117 - mean_squared_error: 0.3588\n",
            "Epoch 22/140\n",
            "17/17 [==============================] - 0s 5ms/step - loss: 0.4121 - mean_squared_error: 0.3599\n",
            "Epoch 23/140\n",
            "17/17 [==============================] - 0s 4ms/step - loss: 0.4087 - mean_squared_error: 0.3571\n",
            "Epoch 24/140\n",
            "17/17 [==============================] - 0s 6ms/step - loss: 0.4082 - mean_squared_error: 0.3571\n",
            "Epoch 25/140\n",
            "17/17 [==============================] - 0s 4ms/step - loss: 0.4070 - mean_squared_error: 0.3562\n",
            "Epoch 26/140\n",
            "17/17 [==============================] - 0s 5ms/step - loss: 0.4054 - mean_squared_error: 0.3557\n",
            "Epoch 27/140\n",
            "17/17 [==============================] - 0s 5ms/step - loss: 0.4091 - mean_squared_error: 0.3585\n",
            "Epoch 28/140\n",
            "17/17 [==============================] - 0s 5ms/step - loss: 0.4068 - mean_squared_error: 0.3577\n",
            "Epoch 29/140\n",
            "17/17 [==============================] - 0s 5ms/step - loss: 0.4076 - mean_squared_error: 0.3590\n",
            "Epoch 30/140\n",
            "17/17 [==============================] - 0s 5ms/step - loss: 0.4055 - mean_squared_error: 0.3559\n",
            "Epoch 31/140\n",
            "17/17 [==============================] - 0s 5ms/step - loss: 0.4040 - mean_squared_error: 0.3566\n",
            "Epoch 32/140\n",
            "17/17 [==============================] - 0s 5ms/step - loss: 0.4022 - mean_squared_error: 0.3532\n",
            "Epoch 33/140\n",
            "17/17 [==============================] - 0s 5ms/step - loss: 0.4009 - mean_squared_error: 0.3537\n",
            "Epoch 34/140\n",
            "17/17 [==============================] - 0s 5ms/step - loss: 0.4002 - mean_squared_error: 0.3518\n",
            "Epoch 35/140\n",
            "17/17 [==============================] - 0s 5ms/step - loss: 0.4004 - mean_squared_error: 0.3524\n",
            "Epoch 36/140\n",
            "17/17 [==============================] - 0s 5ms/step - loss: 0.3994 - mean_squared_error: 0.3523\n",
            "Epoch 37/140\n",
            "17/17 [==============================] - 0s 5ms/step - loss: 0.4011 - mean_squared_error: 0.3539\n",
            "Epoch 38/140\n",
            "17/17 [==============================] - 0s 6ms/step - loss: 0.3987 - mean_squared_error: 0.3519\n",
            "Epoch 39/140\n",
            "17/17 [==============================] - 0s 4ms/step - loss: 0.3985 - mean_squared_error: 0.3525\n",
            "Epoch 40/140\n",
            "17/17 [==============================] - 0s 6ms/step - loss: 0.4009 - mean_squared_error: 0.3536\n",
            "Epoch 41/140\n",
            "17/17 [==============================] - 0s 5ms/step - loss: 0.3989 - mean_squared_error: 0.3534\n",
            "Epoch 42/140\n",
            "17/17 [==============================] - 0s 5ms/step - loss: 0.3968 - mean_squared_error: 0.3510\n",
            "Epoch 43/140\n",
            "17/17 [==============================] - 0s 5ms/step - loss: 0.3975 - mean_squared_error: 0.3518\n",
            "Epoch 44/140\n",
            "17/17 [==============================] - 0s 5ms/step - loss: 0.3979 - mean_squared_error: 0.3532\n",
            "Epoch 45/140\n",
            "17/17 [==============================] - 0s 5ms/step - loss: 0.3967 - mean_squared_error: 0.3508\n",
            "Epoch 46/140\n",
            "17/17 [==============================] - 0s 6ms/step - loss: 0.3958 - mean_squared_error: 0.3508\n",
            "Epoch 47/140\n",
            "17/17 [==============================] - 0s 6ms/step - loss: 0.3947 - mean_squared_error: 0.3500\n",
            "Epoch 48/140\n",
            "17/17 [==============================] - 0s 5ms/step - loss: 0.3949 - mean_squared_error: 0.3505\n",
            "Epoch 49/140\n",
            "17/17 [==============================] - 0s 5ms/step - loss: 0.3948 - mean_squared_error: 0.3505\n",
            "Epoch 50/140\n",
            "17/17 [==============================] - 0s 5ms/step - loss: 0.3936 - mean_squared_error: 0.3498\n",
            "Epoch 51/140\n",
            "17/17 [==============================] - 0s 5ms/step - loss: 0.3926 - mean_squared_error: 0.3486\n",
            "Epoch 52/140\n",
            "17/17 [==============================] - 0s 4ms/step - loss: 0.3937 - mean_squared_error: 0.3494\n",
            "Epoch 53/140\n",
            "17/17 [==============================] - 0s 5ms/step - loss: 0.3933 - mean_squared_error: 0.3499\n",
            "Epoch 54/140\n",
            "17/17 [==============================] - 0s 4ms/step - loss: 0.4013 - mean_squared_error: 0.3578\n",
            "Epoch 55/140\n",
            "17/17 [==============================] - 0s 5ms/step - loss: 0.3961 - mean_squared_error: 0.3522\n",
            "Epoch 56/140\n",
            "17/17 [==============================] - 0s 4ms/step - loss: 0.3925 - mean_squared_error: 0.3500\n",
            "Epoch 57/140\n",
            "17/17 [==============================] - 0s 5ms/step - loss: 0.3909 - mean_squared_error: 0.3479\n",
            "Epoch 58/140\n",
            "17/17 [==============================] - 0s 4ms/step - loss: 0.3908 - mean_squared_error: 0.3476\n",
            "Epoch 59/140\n",
            "17/17 [==============================] - 0s 6ms/step - loss: 0.3922 - mean_squared_error: 0.3498\n",
            "Epoch 60/140\n",
            "17/17 [==============================] - 0s 5ms/step - loss: 0.3917 - mean_squared_error: 0.3496\n",
            "Epoch 61/140\n",
            "17/17 [==============================] - 0s 6ms/step - loss: 0.3914 - mean_squared_error: 0.3496\n",
            "Epoch 62/140\n",
            "17/17 [==============================] - 0s 5ms/step - loss: 0.3902 - mean_squared_error: 0.3481\n",
            "Epoch 63/140\n",
            "17/17 [==============================] - 0s 5ms/step - loss: 0.3920 - mean_squared_error: 0.3498\n",
            "Epoch 64/140\n",
            "17/17 [==============================] - 0s 4ms/step - loss: 0.3893 - mean_squared_error: 0.3479\n",
            "Epoch 65/140\n",
            "17/17 [==============================] - 0s 5ms/step - loss: 0.3891 - mean_squared_error: 0.3470\n",
            "Epoch 66/140\n",
            "17/17 [==============================] - 0s 5ms/step - loss: 0.3880 - mean_squared_error: 0.3468\n",
            "Epoch 67/140\n",
            "17/17 [==============================] - 0s 5ms/step - loss: 0.3916 - mean_squared_error: 0.3497\n",
            "Epoch 68/140\n",
            "17/17 [==============================] - 0s 5ms/step - loss: 0.3904 - mean_squared_error: 0.3496\n",
            "Epoch 69/140\n",
            "17/17 [==============================] - 0s 5ms/step - loss: 0.3897 - mean_squared_error: 0.3484\n",
            "Epoch 70/140\n",
            "17/17 [==============================] - 0s 5ms/step - loss: 0.3889 - mean_squared_error: 0.3483\n",
            "Epoch 71/140\n",
            "17/17 [==============================] - 0s 4ms/step - loss: 0.3881 - mean_squared_error: 0.3478\n",
            "Epoch 72/140\n",
            "17/17 [==============================] - 0s 6ms/step - loss: 0.3876 - mean_squared_error: 0.3469\n",
            "Epoch 73/140\n",
            "17/17 [==============================] - 0s 4ms/step - loss: 0.3877 - mean_squared_error: 0.3472\n",
            "Epoch 74/140\n",
            "17/17 [==============================] - 0s 4ms/step - loss: 0.3901 - mean_squared_error: 0.3501\n",
            "Epoch 75/140\n",
            "17/17 [==============================] - 0s 4ms/step - loss: 0.3874 - mean_squared_error: 0.3472\n",
            "Epoch 76/140\n",
            "17/17 [==============================] - 0s 4ms/step - loss: 0.3888 - mean_squared_error: 0.3494\n",
            "Epoch 77/140\n",
            "17/17 [==============================] - 0s 4ms/step - loss: 0.3870 - mean_squared_error: 0.3468\n",
            "Epoch 78/140\n",
            "17/17 [==============================] - 0s 6ms/step - loss: 0.3883 - mean_squared_error: 0.3487\n",
            "Epoch 79/140\n",
            "17/17 [==============================] - 0s 4ms/step - loss: 0.3864 - mean_squared_error: 0.3465\n",
            "Epoch 80/140\n",
            "17/17 [==============================] - 0s 5ms/step - loss: 0.3856 - mean_squared_error: 0.3463\n",
            "Epoch 81/140\n",
            "17/17 [==============================] - 0s 5ms/step - loss: 0.3846 - mean_squared_error: 0.3451\n",
            "Epoch 82/140\n",
            "17/17 [==============================] - 0s 5ms/step - loss: 0.3850 - mean_squared_error: 0.3455\n",
            "Epoch 83/140\n",
            "17/17 [==============================] - 0s 6ms/step - loss: 0.3895 - mean_squared_error: 0.3503\n",
            "Epoch 84/140\n",
            "17/17 [==============================] - 0s 5ms/step - loss: 0.3870 - mean_squared_error: 0.3486\n",
            "Epoch 85/140\n",
            "17/17 [==============================] - 0s 4ms/step - loss: 0.3858 - mean_squared_error: 0.3468\n",
            "Epoch 86/140\n",
            "17/17 [==============================] - 0s 5ms/step - loss: 0.3849 - mean_squared_error: 0.3468\n",
            "Epoch 87/140\n",
            "17/17 [==============================] - 0s 4ms/step - loss: 0.3852 - mean_squared_error: 0.3457\n",
            "Epoch 88/140\n",
            "17/17 [==============================] - 0s 5ms/step - loss: 0.3839 - mean_squared_error: 0.3462\n",
            "Epoch 89/140\n",
            "17/17 [==============================] - 0s 5ms/step - loss: 0.3853 - mean_squared_error: 0.3466\n",
            "Epoch 90/140\n",
            "17/17 [==============================] - 0s 5ms/step - loss: 0.3823 - mean_squared_error: 0.3439\n",
            "Epoch 91/140\n",
            "17/17 [==============================] - 0s 6ms/step - loss: 0.3841 - mean_squared_error: 0.3452\n",
            "Epoch 92/140\n",
            "17/17 [==============================] - 0s 6ms/step - loss: 0.3834 - mean_squared_error: 0.3458\n",
            "Epoch 93/140\n",
            "17/17 [==============================] - 0s 5ms/step - loss: 0.3826 - mean_squared_error: 0.3439\n",
            "Epoch 94/140\n",
            "17/17 [==============================] - 0s 4ms/step - loss: 0.3817 - mean_squared_error: 0.3439\n",
            "Epoch 95/140\n",
            "17/17 [==============================] - 0s 5ms/step - loss: 0.3826 - mean_squared_error: 0.3447\n",
            "Epoch 96/140\n",
            "17/17 [==============================] - 0s 4ms/step - loss: 0.3822 - mean_squared_error: 0.3448\n",
            "Epoch 97/140\n",
            "17/17 [==============================] - 0s 4ms/step - loss: 0.3833 - mean_squared_error: 0.3456\n",
            "Epoch 98/140\n",
            "17/17 [==============================] - 0s 5ms/step - loss: 0.3832 - mean_squared_error: 0.3463\n",
            "Epoch 99/140\n",
            "17/17 [==============================] - 0s 6ms/step - loss: 0.3820 - mean_squared_error: 0.3446\n",
            "Epoch 100/140\n",
            "17/17 [==============================] - 0s 5ms/step - loss: 0.3834 - mean_squared_error: 0.3463\n",
            "Epoch 101/140\n",
            "17/17 [==============================] - 0s 6ms/step - loss: 0.3814 - mean_squared_error: 0.3440\n",
            "Epoch 102/140\n",
            "17/17 [==============================] - 0s 5ms/step - loss: 0.3836 - mean_squared_error: 0.3473\n",
            "Epoch 103/140\n",
            "17/17 [==============================] - 0s 5ms/step - loss: 0.3861 - mean_squared_error: 0.3493\n",
            "Epoch 104/140\n",
            "17/17 [==============================] - 0s 6ms/step - loss: 0.3911 - mean_squared_error: 0.3547\n",
            "Epoch 105/140\n",
            "17/17 [==============================] - 0s 4ms/step - loss: 0.3826 - mean_squared_error: 0.3454\n",
            "Epoch 106/140\n",
            "17/17 [==============================] - 0s 5ms/step - loss: 0.3824 - mean_squared_error: 0.3460\n",
            "Epoch 107/140\n",
            "17/17 [==============================] - 0s 5ms/step - loss: 0.3829 - mean_squared_error: 0.3468\n",
            "Epoch 108/140\n",
            "17/17 [==============================] - 0s 5ms/step - loss: 0.3814 - mean_squared_error: 0.3452\n",
            "Epoch 109/140\n",
            "17/17 [==============================] - 0s 5ms/step - loss: 0.3805 - mean_squared_error: 0.3442\n",
            "Epoch 110/140\n",
            "17/17 [==============================] - 0s 5ms/step - loss: 0.3810 - mean_squared_error: 0.3449\n",
            "Epoch 111/140\n",
            "17/17 [==============================] - 0s 5ms/step - loss: 0.3807 - mean_squared_error: 0.3439\n",
            "Epoch 112/140\n",
            "17/17 [==============================] - 0s 6ms/step - loss: 0.3812 - mean_squared_error: 0.3455\n",
            "Epoch 113/140\n",
            "17/17 [==============================] - 0s 5ms/step - loss: 0.3813 - mean_squared_error: 0.3453\n",
            "Epoch 114/140\n",
            "17/17 [==============================] - 0s 6ms/step - loss: 0.3804 - mean_squared_error: 0.3449\n",
            "Epoch 115/140\n",
            "17/17 [==============================] - 0s 5ms/step - loss: 0.3792 - mean_squared_error: 0.3425\n",
            "Epoch 116/140\n",
            "17/17 [==============================] - 0s 5ms/step - loss: 0.3805 - mean_squared_error: 0.3454\n",
            "Epoch 117/140\n",
            "17/17 [==============================] - 0s 5ms/step - loss: 0.3798 - mean_squared_error: 0.3439\n",
            "Epoch 118/140\n",
            "17/17 [==============================] - 0s 5ms/step - loss: 0.3809 - mean_squared_error: 0.3456\n",
            "Epoch 119/140\n",
            "17/17 [==============================] - 0s 5ms/step - loss: 0.3875 - mean_squared_error: 0.3523\n",
            "Epoch 120/140\n",
            "17/17 [==============================] - 0s 5ms/step - loss: 0.3836 - mean_squared_error: 0.3480\n",
            "Epoch 121/140\n",
            "17/17 [==============================] - 0s 6ms/step - loss: 0.3830 - mean_squared_error: 0.3477\n",
            "Epoch 122/140\n",
            "17/17 [==============================] - 0s 5ms/step - loss: 0.3821 - mean_squared_error: 0.3473\n",
            "Epoch 123/140\n",
            "17/17 [==============================] - 0s 6ms/step - loss: 0.3798 - mean_squared_error: 0.3448\n",
            "Epoch 124/140\n",
            "17/17 [==============================] - 0s 5ms/step - loss: 0.3789 - mean_squared_error: 0.3436\n",
            "Epoch 125/140\n",
            "17/17 [==============================] - 0s 5ms/step - loss: 0.3794 - mean_squared_error: 0.3449\n",
            "Epoch 126/140\n",
            "17/17 [==============================] - 0s 4ms/step - loss: 0.3799 - mean_squared_error: 0.3443\n",
            "Epoch 127/140\n",
            "17/17 [==============================] - 0s 5ms/step - loss: 0.3781 - mean_squared_error: 0.3436\n",
            "Epoch 128/140\n",
            "17/17 [==============================] - 0s 5ms/step - loss: 0.3793 - mean_squared_error: 0.3447\n",
            "Epoch 129/140\n",
            "17/17 [==============================] - 0s 5ms/step - loss: 0.3779 - mean_squared_error: 0.3434\n",
            "Epoch 130/140\n",
            "17/17 [==============================] - 0s 7ms/step - loss: 0.3778 - mean_squared_error: 0.3430\n",
            "Epoch 131/140\n",
            "17/17 [==============================] - 0s 6ms/step - loss: 0.3791 - mean_squared_error: 0.3448\n",
            "Epoch 132/140\n",
            "17/17 [==============================] - 0s 5ms/step - loss: 0.3794 - mean_squared_error: 0.3450\n",
            "Epoch 133/140\n",
            "17/17 [==============================] - 0s 5ms/step - loss: 0.3780 - mean_squared_error: 0.3436\n",
            "Epoch 134/140\n",
            "17/17 [==============================] - 0s 5ms/step - loss: 0.3787 - mean_squared_error: 0.3450\n",
            "Epoch 135/140\n",
            "17/17 [==============================] - 0s 6ms/step - loss: 0.3786 - mean_squared_error: 0.3446\n",
            "Epoch 136/140\n",
            "17/17 [==============================] - 0s 5ms/step - loss: 0.3765 - mean_squared_error: 0.3428\n",
            "Epoch 137/140\n",
            "17/17 [==============================] - 0s 5ms/step - loss: 0.3768 - mean_squared_error: 0.3421\n",
            "Epoch 138/140\n",
            "17/17 [==============================] - 0s 4ms/step - loss: 0.3798 - mean_squared_error: 0.3464\n",
            "Epoch 139/140\n",
            "17/17 [==============================] - 0s 5ms/step - loss: 0.3795 - mean_squared_error: 0.3463\n",
            "Epoch 140/140\n",
            "17/17 [==============================] - 0s 6ms/step - loss: 0.3796 - mean_squared_error: 0.3454\n"
          ]
        },
        {
          "output_type": "display_data",
          "data": {
            "text/plain": [
              "<Figure size 432x288 with 1 Axes>"
            ],
            "image/png": "[encoded data removed]"
          },
          "metadata": {
            "needs_background": "light"
          }
        },
        {
          "output_type": "stream",
          "name": "stdout",
          "text": [
            "\n",
            " Evaluate the new model against the test set:\n"
          ]
        },
        {
          "output_type": "stream",
          "name": "stderr",
          "text": [
            "WARNING:tensorflow:Layers in a Sequential model should only have a single input tensor. Received: inputs={'longitude': <tf.Tensor 'IteratorGetNext:3' shape=(1000,) dtype=float32>, 'latitude': <tf.Tensor 'IteratorGetNext:2' shape=(1000,) dtype=float32>, 'housing_median_age': <tf.Tensor 'IteratorGetNext:1' shape=(1000,) dtype=float32>, 'total_rooms': <tf.Tensor 'IteratorGetNext:7' shape=(1000,) dtype=float32>, 'total_bedrooms': <tf.Tensor 'IteratorGetNext:6' shape=(1000,) dtype=float32>, 'population': <tf.Tensor 'IteratorGetNext:5' shape=(1000,) dtype=float32>, 'households': <tf.Tensor 'IteratorGetNext:0' shape=(1000,) dtype=float32>, 'median_income': <tf.Tensor 'IteratorGetNext:4' shape=(1000,) dtype=float32>}. Consider rewriting this model with the Functional API.\n"
          ]
        },
        {
          "output_type": "stream",
          "name": "stdout",
          "text": [
            "3/3 [==============================] - 0s 6ms/step - loss: 0.4122 - mean_squared_error: 0.3792\n"
          ]
        },
        {
          "output_type": "execute_result",
          "data": {
            "text/plain": [
              "[0.4122238755226135, 0.37916144728660583]"
            ]
          },
          "metadata": {},
          "execution_count": 14
        }
      ],
      "source": [
        "#@title Double-click for a possible solution\n",
        "\n",
        "# The following \"solution\" uses L2 regularization to bring training loss\n",
        "# and test loss closer to each other. Many, many other solutions are possible.\n",
        "\n",
        "\n",
        "def create_model(my_learning_rate, my_feature_layer):\n",
        "  \"\"\"Create and compile a simple linear regression model.\"\"\"\n",
        "\n",
        "  # Discard any pre-existing version of the model.\n",
        "  model = None\n",
        "\n",
        "  # Most simple tf.keras models are sequential.\n",
        "  model = tf.keras.models.Sequential()\n",
        "\n",
        "  # Add the layer containing the feature columns to the model.\n",
        "  model.add(my_feature_layer)\n",
        "\n",
        "  # Describe the topography of the model. \n",
        "\n",
        "  # Implement L2 regularization in the first hidden layer.\n",
        "  model.add(tf.keras.layers.Dense(units=20, \n",
        "                                  activation='relu',\n",
        "                                  kernel_regularizer=tf.keras.regularizers.l2(0.04),\n",
        "                                  name='Hidden1'))\n",
        "  \n",
        "  # Implement L2 regularization in the second hidden layer.\n",
        "  model.add(tf.keras.layers.Dense(units=12, \n",
        "                                  activation='relu', \n",
        "                                  kernel_regularizer=tf.keras.regularizers.l2(0.04),\n",
        "                                  name='Hidden2'))\n",
        "\n",
        "  # Define the output layer.\n",
        "  model.add(tf.keras.layers.Dense(units=1,  \n",
        "                                  name='Output'))                              \n",
        "  \n",
        "  model.compile(optimizer=tf.keras.optimizers.Adam(lr=my_learning_rate),\n",
        "                loss=\"mean_squared_error\",\n",
        "                metrics=[tf.keras.metrics.MeanSquaredError()])\n",
        "\n",
        "  return model     \n",
        "\n",
        "# Call the new create_model function and the other (unchanged) functions.\n",
        "\n",
        "# The following variables are the hyperparameters.\n",
        "learning_rate = 0.007\n",
        "epochs = 140\n",
        "batch_size = 1000\n",
        "\n",
        "label_name = \"median_house_value\"\n",
        "\n",
        "# Establish the model's topography.\n",
        "my_model = create_model(learning_rate, my_feature_layer)\n",
        "\n",
        "# Train the model on the normalized training set.\n",
        "epochs, mse = train_model(my_model, train_df_norm, epochs, \n",
        "                          label_name, batch_size)\n",
        "plot_the_loss_curve(epochs, mse)\n",
        "\n",
        "test_features = {name:np.array(value) for name, value in test_df_norm.items()}\n",
        "test_label = np.array(test_features.pop(label_name)) # isolate the label\n",
        "print(\"\\n Evaluate the new model against the test set:\")\n",
        "my_model.evaluate(x = test_features, y = test_label, batch_size=batch_size) "
      ]
    }
  ],
  "metadata": {
    "colab": {
      "provenance": []
    },
    "kernelspec": {
      "display_name": "Python 3",
      "name": "python3"
    },
    "gpuClass": "standard"
  },
  "nbformat": 4,
  "nbformat_minor": 0
}